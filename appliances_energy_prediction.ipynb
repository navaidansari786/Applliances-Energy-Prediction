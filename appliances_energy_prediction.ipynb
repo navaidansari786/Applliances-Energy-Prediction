{
  "nbformat": 4,
  "nbformat_minor": 0,
  "metadata": {
    "colab": {
      "name": "appliances_energy_prediction.ipynb",
      "provenance": [],
      "collapsed_sections": [],
      "authorship_tag": "ABX9TyMpxDHm+dI8XYSSoveGpVpT",
      "include_colab_link": true
    },
    "kernelspec": {
      "name": "python3",
      "display_name": "Python 3"
    },
    "language_info": {
      "name": "python"
    }
  },
  "cells": [
    {
      "cell_type": "markdown",
      "metadata": {
        "id": "view-in-github",
        "colab_type": "text"
      },
      "source": [
        "<a href=\"https://colab.research.google.com/github/navaidansari786/Applliances-Energy-Prediction/blob/main/appliances_energy_prediction.ipynb\" target=\"_parent\"><img src=\"https://colab.research.google.com/assets/colab-badge.svg\" alt=\"Open In Colab\"/></a>"
      ]
    },
    {
      "cell_type": "markdown",
      "metadata": {
        "id": "Xzf9qPMHwjSv"
      },
      "source": [
        "## Machine Learning - Regression Problem"
      ]
    },
    {
      "cell_type": "markdown",
      "metadata": {
        "id": "jRDG9QrwvpgH"
      },
      "source": [
        "### Data-driven prediction of energy use of appliances\n",
        "The data set is at 10 min for about 4.5 months. The house temperature and humidity conditions\n",
        "were monitored with a ZigBee wireless sensor network. Each wireless node transmitted the\n",
        "temperature and humidity conditions around 3.3 min. Then, the wireless data was averaged for\n",
        "10 minutes periods. The energy data was logged every 10 minutes with m-bus energy meters.\n",
        "Weather from the nearest airport weather station (Chievres Airport, Belgium) was downloaded\n",
        "from a public data set from Reliable Prognosis (rp5.ru) and merged together with the\n",
        "experimental data sets using the date and time column. Two random variables have been\n",
        "included in the data set for testing the regression models and to filter out non-predictive attributes\n",
        "(parameters).\n",
        "\n",
        "date time year-month-day hour:minute:second\\\n",
        "Appliances, energy use in Wh (Dependent variable)\\\n",
        "lights, energy use of light fixtures in the house in Wh (Drop this column)\\\n",
        "T1, Temperature in kitchen area, in Celsius\\\n",
        "RH1, Humidity in kitchen area, in % T2, Temperature in living room area, in Celsius RH2,\n",
        "Humidity in living room area, in %\\\n",
        "T3, Temperature in laundry room area\\\n",
        "RH3, Humidity in laundry room area, in % T4, Temperature in office room, in Celsius RH4,\n",
        "Humidity in office room, in %\\\n",
        "T5, Temperature in bathroom, in Celsius\\\n",
        "RH5, Humidity in bathroom, in % T6, Temperature outside the building (north side), in Celsius\n",
        "RH6, Humidity outside the building (north side), in %\\\n",
        "T7, Temperature in ironing room , in Celsius\\\n",
        "RH7, Humidity in ironing room, in % T8, Temperature in teenager room 2, in Celsius RH8,\n",
        "Humidity in teenager room 2, in %\\\n",
        "T9, Temperature in parents room, in Celsius\\\n",
        "RH9, Humidity in parents room, in % To, Temperature outside (from Chievres weather station), in\n",
        "Celsius Pressure (from Chievres weather station), in mm Hg RHout, Humidity outside (from\n",
        "Chievres weather station), in %\\\n",
        "Wind speed (from Chievres weather station), in m/s\\\n",
        "Visibility (from Chievres weather station), in km\\\n",
        "Tdewpoint (from Chievres weather station), Â°C\\\n",
        "rv1, Random variable 1, nondimensional\\\n",
        "rv2, Random variable 2, nondimensional\n",
        "\n",
        "Where indicated, hourly data (then interpolated) from the nearest airport weather station\n",
        "(Chievres Airport, Belgium) was downloaded from a public data set from Reliable Prognosis,\n",
        "rp5.ru. Permission was obtained from Reliable Prognosis for the distribution of the 4.5 months of\n",
        "weather data."
      ]
    },
    {
      "cell_type": "code",
      "metadata": {
        "id": "m4PLNybEwsAh"
      },
      "source": [
        "# Importing the libraries\n",
        "import numpy as np\n",
        "import pandas as pd\n",
        "from numpy import math\n",
        "\n",
        "from sklearn.preprocessing import MinMaxScaler\n",
        "from sklearn.model_selection import train_test_split\n",
        "from sklearn.linear_model import LinearRegression\n",
        "from sklearn.metrics import r2_score\n",
        "from sklearn.metrics import mean_squared_error\n",
        "import seaborn as sns\n",
        "import matplotlib.pyplot as plt\n",
        "import warnings\n",
        "warnings.filterwarnings('ignore')"
      ],
      "execution_count": null,
      "outputs": []
    },
    {
      "cell_type": "code",
      "metadata": {
        "id": "gJkwtqMgnbtk"
      },
      "source": [
        ""
      ],
      "execution_count": null,
      "outputs": []
    }
  ]
}